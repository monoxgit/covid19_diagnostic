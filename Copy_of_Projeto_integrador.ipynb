{
  "nbformat": 4,
  "nbformat_minor": 0,
  "metadata": {
    "colab": {
      "name": "Copy of Projeto_integrador",
      "provenance": [],
      "authorship_tag": "ABX9TyNLmaDM2q3XJ4SujBLFKTOu",
      "include_colab_link": true
    },
    "kernelspec": {
      "name": "python3",
      "display_name": "Python 3"
    }
  },
  "cells": [
    {
      "cell_type": "markdown",
      "metadata": {
        "id": "view-in-github",
        "colab_type": "text"
      },
      "source": [
        "<a href=\"https://colab.research.google.com/github/monoxgit/covid19_diagnostic/blob/master/Copy_of_Projeto_integrador.ipynb\" target=\"_parent\"><img src=\"https://colab.research.google.com/assets/colab-badge.svg\" alt=\"Open In Colab\"/></a>"
      ]
    },
    {
      "cell_type": "markdown",
      "metadata": {
        "id": "5CufmePZ2A-R",
        "colab_type": "text"
      },
      "source": [
        "## A MEDICAL DIAGNOSTIC MODEL RESEARCH\n",
        "\n",
        "RESUME  OF A PROPOSED CASE OF STUDY [PT]\n",
        "\n",
        "O projeto de um modelo de diagnóstico médico é proposto para identificar pacientes com Covid-19 e diferenciá-los de pacientes com qualquer outra condição respiratória. Dada a alta demanda proposta devido ao aumento exponencial do número de novos casos de infecção pelo Covid-19, espera-se uma sobrecarga no sistema de saúde. A capacidade de detectar e diferenciar pacientes infectados de outras condições pode ajudar a aliviar o fardo para os sistemas de saúde, bem como direcionar esforços para aqueles com maior risco. Para diferenciar um paciente com Covid-19 de um com outra condição respiratória, deve ser realizado um teste de RT-PCR, que é limitado e requer muito tempo para se conhecer o resultado. Usando a análise de imagens de raios-X do tórax e outras métricas não invasivas de resultados rápidos e mais baratos, pode-se prever se um paciente é ou não um caso  positivo para o Covid-19.\n",
        "\n",
        "\n",
        "# **GENERAL OUTLINE**\n",
        "\n",
        "1. Data Collection:\n",
        " \n",
        "  lindawangg/COVID-Net: COVID-Net Open Source Initiative\n",
        " - https://github.com/lindawangg/COVID-Net/ \n",
        "\n",
        "\n",
        "2. Model development\n",
        "\n",
        "3. Training \n",
        "\n",
        "4. Prediction and evaluation \n",
        "\n",
        "\n",
        "\n",
        "\n"
      ]
    },
    {
      "cell_type": "markdown",
      "metadata": {
        "id": "5EPdhY8K4oAu",
        "colab_type": "text"
      },
      "source": [
        "## DATA COLLECTION AND PREPARATION\n",
        "\n",
        "To do list\n",
        "\n",
        " 1. Import Packages and Functions\n",
        " 2. Load the datasets.\n",
        " instructions to generate the dataset  https://github.com/lindawangg/COVID-Net/blob/master/docs/COVIDx.md \n",
        "\n",
        " 3. Data exploration\n",
        " - Data types and null values check\n",
        " - Unique IDs check\n",
        " - Explore data labels\n",
        " - Data visualization\n",
        " - Investigate single image\n",
        " - Investigate pixel value distribution\n",
        " 4. Imaging preprocessing with Keras (imageDataGenerator)\n",
        " - Standardization\n",
        "\n",
        "\n",
        "\n",
        "\n",
        "\n"
      ]
    },
    {
      "cell_type": "code",
      "metadata": {
        "id": "gVEDadiu1oZF",
        "colab_type": "code",
        "colab": {}
      },
      "source": [
        "## Here we go.."
      ],
      "execution_count": 0,
      "outputs": []
    }
  ]
}